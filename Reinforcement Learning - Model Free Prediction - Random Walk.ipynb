{
 "cells": [
  {
   "cell_type": "markdown",
   "metadata": {},
   "source": [
    "## Random Walk"
   ]
  },
  {
   "cell_type": "markdown",
   "metadata": {},
   "source": [
    "The agent is in an horizontal world and can move left or right with probability .5.\n",
    "The reward is 0 for all transitions except for the transition to the right terminal state.\n",
    "\n",
    "We eventually introduce randomness in the transitions by giving probability .1 to stay in the current state, probability 0.1 to move 2 steps at once and probability .8 to move to the next state."
   ]
  },
  {
   "cell_type": "code",
   "execution_count": 1,
   "metadata": {},
   "outputs": [],
   "source": [
    "from gym import Env\n",
    "import numpy as np\n",
    "from functools import partial\n",
    "import matplotlib.pyplot as plt\n",
    "import itertools\n",
    "import copy\n",
    "import sys\n",
    "\n",
    "def move_left(current_index):\n",
    "    return current_index-1\n",
    "    \n",
    "def move_right(current_index):\n",
    "    return current_index+1\n",
    "\n",
    "def compute_rmse(V, V_mdp):\n",
    "    squared_err=0\n",
    "    for v,v_mdp in zip(V,V_mdp):\n",
    "        squared_err+=(v-v_mdp)**2\n",
    "    return np.sqrt(squared_err/len(V))\n"
   ]
  },
  {
   "cell_type": "code",
   "execution_count": 417,
   "metadata": {},
   "outputs": [
    {
     "data": {
      "text/plain": [
       "2"
      ]
     },
     "execution_count": 417,
     "metadata": {},
     "output_type": "execute_result"
    }
   ],
   "source": []
  },
  {
   "cell_type": "code",
   "execution_count": 419,
   "metadata": {},
   "outputs": [],
   "source": [
    "class RandomWalkEnv(Env):\n",
    "    def __init__(self, n_states):\n",
    "        self.actions = [move_left, move_right]\n",
    "        self.n_actions = len(self.actions)\n",
    "        self.n_states = n_states        \n",
    "        self.R = self.init_R()\n",
    "        self.P = self.init_P()\n",
    "        self.state = self.n_states//2\n",
    "        \n",
    "    def step(self,action):\n",
    "        done=False\n",
    "        a = self.actions.index(action)\n",
    "        s = self.state\n",
    "        reward = self.R[a,s]\n",
    "        next_state = np.random.choice(range(self.n_states), p=self.P[a,s])\n",
    "        \n",
    "        if next_state == 0 or next_state == self.n_states-1:\n",
    "            done = True\n",
    "            \n",
    "        self.state = next_state\n",
    "        return next_state, reward, done, None\n",
    "    \n",
    "    def reset(self):\n",
    "        self.state = np.random.choice(np.arange(1,self.n_states-1))\n",
    "        return self.state\n",
    "    \n",
    "    \n",
    "    def init_P(self):\n",
    "        ## * transition matrix * ##\n",
    "        P = np.zeros((self.n_actions,self.n_states,self.n_states))\n",
    "        for i in range(1,self.n_states-1):\n",
    "            # move left :\n",
    "            if i-1>=0: P[0,i,i-1] = 1.\n",
    "            # move right\n",
    "            if i+1<self.n_states: P[1,i,i+1] = 1.\n",
    "        # Terminal states\n",
    "        P[:,0,0]=1.\n",
    "        P[:,self.n_states-1,self.n_states-1]=1.\n",
    "        return P\n",
    "    \n",
    "    def init_R(self):\n",
    "        ## * reward matrix * ##\n",
    "        R = -1*np.ones((self.n_actions, self.n_states))\n",
    "        R[0,1] = -max(100, 2*self.n_states) #np.iinfo(np.int).min\n",
    "        R[1,self.n_states-2] = 10\n",
    "        R[:,0] = 0.\n",
    "        R[:,self.n_states-1] = 0.\n",
    "        return R"
   ]
  },
  {
   "cell_type": "code",
   "execution_count": 420,
   "metadata": {},
   "outputs": [],
   "source": [
    "def make_random_policy(env): \n",
    "    n_states = env.n_states\n",
    "    n_actions = env.n_actions\n",
    "    random_policy = np.ones((n_actions, n_states))/n_actions\n",
    "    # Terminal states\n",
    "    random_policy[:,0]=0.\n",
    "    random_policy[:,n_states-1]=0.\n",
    "    return random_policy"
   ]
  },
  {
   "cell_type": "code",
   "execution_count": 421,
   "metadata": {},
   "outputs": [],
   "source": [
    "def markov_reward_process(env, policy):\n",
    "    P_ = np.zeros_like(env.P[0])\n",
    "    R_ = np.sum(env.R*policy,axis=0)\n",
    "    for s in range(env.n_states):\n",
    "        P_[s,:] = policy[:,s] @ env.P[:,s,:]\n",
    "    return R_, P_\n",
    "\n",
    "def mdp_policy_evaluation(env, policy, epsilon= 10**-4, n_iter_max=2000, gamma=1, verbose=False):\n",
    "    R_, P_ = markov_reward_process(env, policy)\n",
    "    V_k = np.zeros(env.n_states)\n",
    "    delta = epsilon+1\n",
    "    n_iter=1\n",
    "    while delta>epsilon and n_iter<=n_iter_max:\n",
    "        V_k_1 = R_ + gamma * P_ @ V_k\n",
    "        delta = max(epsilon, np.max(np.abs(V_k_1-V_k)))\n",
    "        V_k = V_k_1\n",
    "        n_iter+=1\n",
    "    if verbose:\n",
    "        if delta>epsilon:\n",
    "            print(\"Warning : Policy evaluation did not converge after %d steps\"%(n_iter-1))\n",
    "            print(\"delta : {}\".format(delta))\n",
    "        else:\n",
    "            print(\"Policy evaluation did converge after %d steps\"%(n_iter-1))\n",
    "    return V_k_1\n",
    "\n",
    "def greedy(env,v,gamma):\n",
    "    eps = np.finfo(np.float64).resolution\n",
    "    new_policy = np.zeros_like(env.R)\n",
    "    Q = np.zeros_like(env.R)\n",
    "    \n",
    "    for s in range(env.n_states):\n",
    "        for a in range(env.n_actions):           \n",
    "            Q[a,s] = env.R[a,s] + gamma * np.sum(env.P[a,s,:] * v)\n",
    "            \n",
    "    for s in range(1,env.n_states-1):\n",
    "        best_actions = np.where(np.abs(Q[:,s]-np.max(Q[:,s]))<=eps)[0]\n",
    "        n_best = len(best_actions)\n",
    "        for a in best_actions:\n",
    "            new_policy[a,s]= 1./n_best\n",
    "    return new_policy,Q\n",
    "\n",
    "def mdp_policy_iteration(env, old_policy=None, epsilon= 10**-7, n_iter_max=200, gamma=1, verbose=False):\n",
    "    \n",
    "    if old_policy is None:\n",
    "        old_policy = make_random_policy(env)\n",
    "\n",
    "    policy_stable = False\n",
    "    n_iter=0\n",
    "    while not policy_stable:\n",
    "        n_iter+=1\n",
    "        new_v = mdp_policy_evaluation(env, old_policy, epsilon=epsilon, n_iter_max=n_iter_max, gamma=gamma)\n",
    "        new_policy,Q = greedy(env, new_v, gamma)\n",
    "        policy_stable = np.array_equal(old_policy, new_policy)\n",
    "        old_policy = new_policy\n",
    "    if verbose:\n",
    "        print(\"Policy iteration did converge after %d steps\"%(n_iter))\n",
    "    return new_policy\n",
    "        \n",
    "def mdp_value_iteration(env, epsilon= 10**-7, n_iter_max=200, gamma=1, verbose=False):\n",
    "    V_k = np.zeros(env.n_states)\n",
    "    delta = epsilon+1\n",
    "    n_iter=1\n",
    "    while delta>epsilon and n_iter<=n_iter_max:\n",
    "        \n",
    "        V_k_1 = np.max(env.R + gamma * env.P @ V_k,axis=0)\n",
    "        delta = max(epsilon, np.max(np.abs(V_k_1-V_k)))\n",
    "        V_k = V_k_1\n",
    "        n_iter+=1\n",
    "    return V_k_1\n",
    "        "
   ]
  },
  {
   "cell_type": "code",
   "execution_count": 422,
   "metadata": {},
   "outputs": [],
   "source": [
    "env = RandomWalkEnv(7)\n",
    "random_policy = make_random_policy(env)"
   ]
  },
  {
   "cell_type": "code",
   "execution_count": 423,
   "metadata": {},
   "outputs": [],
   "source": [
    "value = mdp_policy_evaluation(env,random_policy)"
   ]
  },
  {
   "cell_type": "code",
   "execution_count": 424,
   "metadata": {},
   "outputs": [
    {
     "data": {
      "text/plain": [
       "array([  0.        , -85.66647433, -70.33303918, -52.99961534,\n",
       "       -33.66637251, -12.333141  ,   0.        ])"
      ]
     },
     "execution_count": 424,
     "metadata": {},
     "output_type": "execute_result"
    }
   ],
   "source": [
    "value"
   ]
  },
  {
   "cell_type": "code",
   "execution_count": 425,
   "metadata": {},
   "outputs": [],
   "source": [
    "optimal_policy = mdp_policy_iteration(env)"
   ]
  },
  {
   "cell_type": "code",
   "execution_count": 426,
   "metadata": {},
   "outputs": [
    {
     "data": {
      "text/plain": [
       "array([[0., 0., 0., 0., 0., 0., 0.],\n",
       "       [0., 1., 1., 1., 1., 1., 0.]])"
      ]
     },
     "execution_count": 426,
     "metadata": {},
     "output_type": "execute_result"
    }
   ],
   "source": [
    "optimal_policy"
   ]
  },
  {
   "cell_type": "code",
   "execution_count": 427,
   "metadata": {},
   "outputs": [],
   "source": [
    "optimal_value = mdp_value_iteration(env)"
   ]
  },
  {
   "cell_type": "code",
   "execution_count": 428,
   "metadata": {},
   "outputs": [
    {
     "data": {
      "text/plain": [
       "array([ 0.,  6.,  7.,  8.,  9., 10.,  0.])"
      ]
     },
     "execution_count": 428,
     "metadata": {},
     "output_type": "execute_result"
    }
   ],
   "source": [
    "optimal_value"
   ]
  },
  {
   "cell_type": "markdown",
   "metadata": {},
   "source": [
    "## Monte Carlo Policy Evaluation"
   ]
  },
  {
   "cell_type": "markdown",
   "metadata": {},
   "source": [
    "We now want to approximate the value function for a given policy by using samples of experience and update the value function at the end of each episode of experience. The idea is for each state to average all its values from each episode in an iterative way using the iterative mean formula : $\\mu_{k+1} = \\mu_k + \\frac{1}{k} (x_{k+1}-\\mu_k)$. \n",
    "Then at the end of an episode, we can update the values of state $S_t$ :\n",
    "\n",
    "- MC policy evaluation : \n",
    "$$ V(S_t)= V(S_t) + \\frac{1}{N(S_t)}(G_t - V(S_t)) $$\n",
    "\n",
    "    Where $N(S_t)$ is the number of time the state S_t has been visited.\n",
    "    Note that in MC policy evaluation all the history is taken into acount. We can introduce a constant $\\alpha$ instead of $\\frac{1}{N(S_t)}$ to forget the oldest experience.\n",
    "    \n",
    "\n",
    "- $\\alpha$-MC policy evaluation :\n",
    "$$ V(S_t)= V(S_t) + \\alpha(G_t - V(S_t)) $$\n",
    "\n",
    "In both MC and $\\alpha$-MC policy evaluation we need to compute, at each time step t, the full return :\n",
    "\n",
    "$$G_t = R_{t+1} + \\gamma R_{t+2}+\\dots + \\gamma^{T-1} R_T $$"
   ]
  },
  {
   "cell_type": "code",
   "execution_count": 492,
   "metadata": {},
   "outputs": [],
   "source": [
    "def run_episode(env, policy):\n",
    "    episode = []\n",
    "    state = env.reset()\n",
    "    for t in itertools.count():\n",
    "        # pick an action\n",
    "        action = np.random.choice(env.actions, p= policy[:,state])\n",
    "        next_state, reward, done, _ = env.step(action)\n",
    "        episode.append((state, reward))\n",
    "        if done:\n",
    "            break\n",
    "        state = next_state\n",
    "    return episode\n",
    "\n",
    "\n",
    "def compute_return(episode, t, n=None, gamma=1):\n",
    "    t = max(t,0)\n",
    "    if n is None:\n",
    "        n=len(episode)\n",
    "    n = max(n,1)\n",
    "    power = np.arange(t,n)\n",
    "    rewards = np.array(episode)[:,1][t:t+n]\n",
    "    G = np.dot(gamma**power , rewards)\n",
    "    return G\n",
    "\n"
   ]
  },
  {
   "cell_type": "code",
   "execution_count": 493,
   "metadata": {},
   "outputs": [],
   "source": [
    "def mc_policy_eval(env, policy, n_iter=200, gamma=1, alpha=None):\n",
    "    if alpha is None:\n",
    "        N = np.zeros(env.n_states)\n",
    "    else:\n",
    "        alpha = min(alpha,0.99)\n",
    "    V = np.zeros(env.n_states)\n",
    "    V_hist = []\n",
    "    \n",
    "    for e in range(n_iter):\n",
    "        # start of episode\n",
    "        episode = run_episode(env, policy)\n",
    "        for t,(St,Rt_1) in enumerate(episode):\n",
    "            # Compute Return from sthis state onwards\n",
    "            Gt = compute_return(episode, t, gamma=gamma)\n",
    "            # Update value\n",
    "            if alpha is None:\n",
    "                N[St] +=1\n",
    "                V[St] += (1/(N[St]))*(Gt - V[St])\n",
    "            else:\n",
    "                V[St] += alpha*(Gt - V[St])\n",
    "                  \n",
    "        # end of episode\n",
    "        V_hist.append(copy.copy(V))\n",
    "    return V_hist\n",
    "\n",
    "\n"
   ]
  },
  {
   "cell_type": "code",
   "execution_count": 494,
   "metadata": {
    "scrolled": true
   },
   "outputs": [
    {
     "data": {
      "text/plain": [
       "(1, -100.0)"
      ]
     },
     "execution_count": 494,
     "metadata": {},
     "output_type": "execute_result"
    }
   ],
   "source": [
    "episode = run_episode(env, random_policy)\n",
    "episode[-1]"
   ]
  },
  {
   "cell_type": "code",
   "execution_count": 506,
   "metadata": {},
   "outputs": [
    {
     "data": {
      "text/plain": [
       "array([  0.        , -85.66647433, -70.33303918, -52.99961534,\n",
       "       -33.66637251, -12.333141  ,   0.        ])"
      ]
     },
     "execution_count": 506,
     "metadata": {},
     "output_type": "execute_result"
    }
   ],
   "source": [
    "mdp_policy_evaluation(env, random_policy)"
   ]
  },
  {
   "cell_type": "code",
   "execution_count": 496,
   "metadata": {
    "scrolled": true
   },
   "outputs": [
    {
     "data": {
      "text/plain": [
       "array([  0.        , -83.81440271, -73.37242298, -54.83973683,\n",
       "       -30.29697215,   5.61917412,   0.        ])"
      ]
     },
     "execution_count": 496,
     "metadata": {},
     "output_type": "execute_result"
    }
   ],
   "source": [
    "mc_policy_eval(env, random_policy,n_iter=100,alpha=0.1)[-1]"
   ]
  },
  {
   "cell_type": "code",
   "execution_count": 495,
   "metadata": {},
   "outputs": [
    {
     "data": {
      "text/plain": [
       "array([ 0.,  6.,  7.,  8.,  9., 10.,  0.])"
      ]
     },
     "execution_count": 495,
     "metadata": {},
     "output_type": "execute_result"
    }
   ],
   "source": [
    "mdp_policy_evaluation(env, optimal_policy)"
   ]
  },
  {
   "cell_type": "code",
   "execution_count": 497,
   "metadata": {},
   "outputs": [
    {
     "data": {
      "text/plain": [
       "array([0.        , 5.46822371, 6.85807108, 7.99056785, 8.99823036,\n",
       "       9.99973439, 0.        ])"
      ]
     },
     "execution_count": 497,
     "metadata": {},
     "output_type": "execute_result"
    }
   ],
   "source": [
    "mc_policy_eval(env, optimal_policy,n_iter=100,alpha=0.1)[-1]"
   ]
  },
  {
   "cell_type": "markdown",
   "metadata": {},
   "source": [
    "## Temporal Difference policy evaluation"
   ]
  },
  {
   "cell_type": "markdown",
   "metadata": {},
   "source": [
    "Temporal Difference use the same idea as MC but use intermediate estimated values of the return $G_t$ by bootstraping. This estimate is call TD-target : \n",
    "$$ td\\_target = R_{t+1} + \\gamma V(S_{t+1}) $$\n",
    "\n",
    "- TD policy evaluation :\n",
    "$$ V(S_t)= V(S_t) + \\alpha(R_{t+1} + \\gamma V(S_{t+1}) - V(S_t)) $$\n",
    "\n",
    "TD backups allows to do online update and works even with non episodic experiences. Unlike MC updates we don't have to wait until the end of the episode to do updates."
   ]
  },
  {
   "cell_type": "code",
   "execution_count": 526,
   "metadata": {},
   "outputs": [],
   "source": [
    "def td_policy_eval(env, policy, n_iter=100, gamma=1., alpha=0.1):\n",
    "    V = np.zeros(env.n_states)\n",
    "    alpha = min(alpha,0.99)\n",
    "    V_hist = []\n",
    "    for e in range(n_iter):\n",
    "        \n",
    "        # start episode\n",
    "        state = env.reset()\n",
    "        for t in itertools.count():\n",
    "            # pick an action\n",
    "            action = np.random.choice(env.actions, p= policy[:, state])\n",
    "            next_state, reward, done, _ = env.step(action)\n",
    "            td_target = reward + gamma * V[next_state]\n",
    "            V[state] += alpha*(td_target - V[state])\n",
    "            if done:\n",
    "                break\n",
    "            \n",
    "            state = next_state\n",
    "        # end of episode    \n",
    "        V_hist.append(copy.copy(V))\n",
    "    return V_hist\n",
    "\n"
   ]
  },
  {
   "cell_type": "code",
   "execution_count": 527,
   "metadata": {},
   "outputs": [
    {
     "data": {
      "text/plain": [
       "array([  0.        , -85.66647433, -70.33303918, -52.99961534,\n",
       "       -33.66637251, -12.333141  ,   0.        ])"
      ]
     },
     "execution_count": 527,
     "metadata": {},
     "output_type": "execute_result"
    }
   ],
   "source": [
    "mdp_policy_evaluation(env, random_policy)"
   ]
  },
  {
   "cell_type": "code",
   "execution_count": 528,
   "metadata": {
    "scrolled": false
   },
   "outputs": [
    {
     "data": {
      "text/plain": [
       "array([  0.        , -84.22204681, -61.30470809, -43.46602771,\n",
       "       -21.58980021,  -3.97933053,   0.        ])"
      ]
     },
     "execution_count": 528,
     "metadata": {},
     "output_type": "execute_result"
    }
   ],
   "source": [
    "td_policy_eval(env, random_policy,n_iter=200)[-1]"
   ]
  },
  {
   "cell_type": "code",
   "execution_count": 529,
   "metadata": {},
   "outputs": [
    {
     "data": {
      "text/plain": [
       "array([ 0.,  6.,  7.,  8.,  9., 10.,  0.])"
      ]
     },
     "execution_count": 529,
     "metadata": {},
     "output_type": "execute_result"
    }
   ],
   "source": [
    "mdp_policy_evaluation(env, optimal_policy)"
   ]
  },
  {
   "cell_type": "code",
   "execution_count": 530,
   "metadata": {},
   "outputs": [
    {
     "data": {
      "text/plain": [
       "array([0.        , 5.3923125 , 6.96074833, 7.99880222, 8.99999415,\n",
       "       9.99999999, 0.        ])"
      ]
     },
     "execution_count": 530,
     "metadata": {},
     "output_type": "execute_result"
    }
   ],
   "source": [
    "td_policy_eval(env, optimal_policy,n_iter=200)[-1]"
   ]
  },
  {
   "cell_type": "markdown",
   "metadata": {},
   "source": [
    "## TD$(n)$ and TD$(\\lambda)$ policy evaluation"
   ]
  },
  {
   "cell_type": "markdown",
   "metadata": {},
   "source": [
    "- TD$(n)$ :  \n",
    "We can look n-step ahead to compute the estimation of the return :\n",
    "$$G^{(n)}_t =  R_{t+1} + \\gamma R_{t+1} + \\gamma^2 V(S_{t+2}) + \\dots + \\gamma^{n} R_{t+n}$$\n",
    "And to the update using this value :\n",
    "$$ V(S_t)= V(S_t) + \\alpha(G^{(n)}_t - V(S_t)) $$\n",
    "\n",
    "- TD$(\\lambda)$ :  \n",
    "To avoid choosing the right n, we can average over all n by using a geometric mean (for efficient computing)\n",
    "$$G^{\\lambda}_t = (1-\\lambda) \\sum^{\\infty}_{n=1}{\\lambda^{n-1}}G^{(n)}_t$$\n",
    "$$ V(S_t)= V(S_t) + \\alpha(G^{\\lambda}_t - V(S_t)) $$\n",
    "\n",
    "- TD$(\\lambda)$, MC and TD relationship :   \n",
    "For $\\lambda =1$, $G^{\\lambda}_t = G_t$, this is MC.  \n",
    "For $\\lambda =0$, $G^{\\lambda}_t = G^{(0)}_t$, this is TD(n=0)."
   ]
  },
  {
   "cell_type": "code",
   "execution_count": null,
   "metadata": {},
   "outputs": [],
   "source": []
  },
  {
   "cell_type": "code",
   "execution_count": null,
   "metadata": {},
   "outputs": [],
   "source": []
  },
  {
   "cell_type": "code",
   "execution_count": null,
   "metadata": {},
   "outputs": [],
   "source": []
  },
  {
   "cell_type": "code",
   "execution_count": null,
   "metadata": {},
   "outputs": [],
   "source": []
  },
  {
   "cell_type": "code",
   "execution_count": null,
   "metadata": {},
   "outputs": [],
   "source": []
  },
  {
   "cell_type": "code",
   "execution_count": null,
   "metadata": {},
   "outputs": [],
   "source": []
  },
  {
   "cell_type": "code",
   "execution_count": null,
   "metadata": {},
   "outputs": [],
   "source": []
  },
  {
   "cell_type": "code",
   "execution_count": null,
   "metadata": {},
   "outputs": [],
   "source": []
  },
  {
   "cell_type": "code",
   "execution_count": null,
   "metadata": {},
   "outputs": [],
   "source": []
  },
  {
   "cell_type": "markdown",
   "metadata": {},
   "source": [
    "## Experiments"
   ]
  },
  {
   "cell_type": "code",
   "execution_count": 510,
   "metadata": {
    "scrolled": false
   },
   "outputs": [
    {
     "data": {
      "image/png": "[encoded data removed]",
      "text/plain": [
       "<Figure size 432x288 with 1 Axes>"
      ]
     },
     "metadata": {
      "needs_background": "light"
     },
     "output_type": "display_data"
    }
   ],
   "source": [
    "import matplotlib.pyplot as plt\n",
    "\n",
    "\n",
    "mdp_values = mdp_policy_evaluation(env, random_policy)\n",
    "\n",
    "f_err = lambda v : list(map(partial(compute_rmse,V_mdp=mdp_values),v))\n",
    "\n",
    "\n",
    "mc_alphas = [.01,.02,.03,.04]\n",
    "td_alphas = [.05,.1,.15]\n",
    "\n",
    "err_mc_alpha = [[] for alpha in mc_alphas]\n",
    "err_td_alpha = [[] for alpha in td_alphas]\n",
    "\n",
    "nsamples = 50\n",
    "n_iter = 100\n",
    "\n",
    "for i, alpha in enumerate(mc_alphas):\n",
    "    tmp = np.zeros((nsamples,n_iter))\n",
    "    for k in range(nsamples):\n",
    "        mc_values = mc_policy_eval(env, random_policy, n_iter=n_iter,gamma=1, alpha=alpha)\n",
    "        tmp[k] = np.array(f_err(mc_values))\n",
    "    err_mc_alpha[i] = np.average(tmp,axis=0)\n",
    "\n",
    "for i, alpha in enumerate(td_alphas):\n",
    "    tmp = np.zeros((nsamples,n_iter))\n",
    "    for k in range(nsamples):\n",
    "        td_values = td_policy_eval(env, random_policy, n_iter=n_iter,gamma=1, alpha=alpha)\n",
    "        tmp[k] = np.array(f_err(td_values))\n",
    "    err_td_alpha[i] = np.average(tmp,axis=0)\n",
    "\n",
    "for i,alpha in enumerate(mc_alphas):\n",
    "    plt.plot(err_mc_alpha[i],label=\"MC_alpha=%.2f\"%alpha)\n",
    "for i,alpha in enumerate(td_alphas):\n",
    "    plt.plot(err_td_alpha[i],label=\"TD_alpha=%.2f\"%alpha)\n",
    "plt.legend(bbox_to_anchor=(1.45, 1),loc='upper right')\n",
    "plt.show()"
   ]
  },
  {
   "cell_type": "code",
   "execution_count": 521,
   "metadata": {},
   "outputs": [
    {
     "data": {
      "image/png": "[encoded data removed]",
      "text/plain": [
       "<Figure size 432x288 with 1 Axes>"
      ]
     },
     "metadata": {
      "needs_background": "light"
     },
     "output_type": "display_data"
    }
   ],
   "source": [
    "plt.plot(mdp_values[1:-1])\n",
    "# plt.plot(mc_values[-1])\n",
    "for i in [1,10,100,200]:\n",
    "    plt.plot(td_policy_eval(env, random_policy, n_iter=i,gamma=1, alpha=.15)[-1][1:-1])\n",
    "plt.show()"
   ]
  },
  {
   "cell_type": "code",
   "execution_count": null,
   "metadata": {},
   "outputs": [],
   "source": []
  },
  {
   "cell_type": "code",
   "execution_count": null,
   "metadata": {},
   "outputs": [],
   "source": []
  },
  {
   "cell_type": "code",
   "execution_count": null,
   "metadata": {},
   "outputs": [],
   "source": []
  },
  {
   "cell_type": "code",
   "execution_count": null,
   "metadata": {},
   "outputs": [],
   "source": []
  },
  {
   "cell_type": "code",
   "execution_count": null,
   "metadata": {},
   "outputs": [],
   "source": []
  }
 ],
 "metadata": {
  "kernelspec": {
   "display_name": "challengeIA",
   "language": "python",
   "name": "challengeia"
  },
  "language_info": {
   "codemirror_mode": {
    "name": "ipython",
    "version": 3
   },
   "file_extension": ".py",
   "mimetype": "text/x-python",
   "name": "python",
   "nbconvert_exporter": "python",
   "pygments_lexer": "ipython3",
   "version": "3.6.10"
  }
 },
 "nbformat": 4,
 "nbformat_minor": 2
}
